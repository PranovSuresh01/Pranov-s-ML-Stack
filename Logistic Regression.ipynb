{
 "cells": [
  {
   "cell_type": "markdown",
   "id": "4373db2c-aaf2-4f47-80f3-84d929958dc2",
   "metadata": {},
   "source": [
    "# ECON 425 Homework 2 - Analysis of weekly stock returns"
   ]
  },
  {
   "cell_type": "markdown",
   "id": "691a130c-86c1-45c6-bac7-fbc905eceb4f",
   "metadata": {},
   "source": [
    "# Question 3"
   ]
  },
  {
   "cell_type": "code",
   "execution_count": 1,
   "id": "a1e05336-491f-44a9-ae8a-f80dd883f80d",
   "metadata": {},
   "outputs": [],
   "source": [
    "#Importing essential packages and libraries\n",
    "import pandas as pd\n",
    "import numpy as np\n",
    "import statsmodels.api as sm\n",
    "from sklearn.linear_model import LogisticRegression\n",
    "from sklearn.metrics import ConfusionMatrixDisplay, confusion_matrix, classification_report\n",
    "import matplotlib.pyplot as plt"
   ]
  },
  {
   "cell_type": "code",
   "execution_count": 2,
   "id": "b5288eed-cdba-4fc6-8859-5364b0b1e53b",
   "metadata": {},
   "outputs": [
    {
     "data": {
      "text/html": [
       "<div>\n",
       "<style scoped>\n",
       "    .dataframe tbody tr th:only-of-type {\n",
       "        vertical-align: middle;\n",
       "    }\n",
       "\n",
       "    .dataframe tbody tr th {\n",
       "        vertical-align: top;\n",
       "    }\n",
       "\n",
       "    .dataframe thead th {\n",
       "        text-align: right;\n",
       "    }\n",
       "</style>\n",
       "<table border=\"1\" class=\"dataframe\">\n",
       "  <thead>\n",
       "    <tr style=\"text-align: right;\">\n",
       "      <th></th>\n",
       "      <th>Year</th>\n",
       "      <th>Lag1</th>\n",
       "      <th>Lag2</th>\n",
       "      <th>Lag3</th>\n",
       "      <th>Lag4</th>\n",
       "      <th>Lag5</th>\n",
       "      <th>Volume</th>\n",
       "      <th>Today</th>\n",
       "      <th>Direction</th>\n",
       "    </tr>\n",
       "  </thead>\n",
       "  <tbody>\n",
       "    <tr>\n",
       "      <th>0</th>\n",
       "      <td>1990</td>\n",
       "      <td>0.816</td>\n",
       "      <td>1.572</td>\n",
       "      <td>-3.936</td>\n",
       "      <td>-0.229</td>\n",
       "      <td>-3.484</td>\n",
       "      <td>0.154976</td>\n",
       "      <td>-0.270</td>\n",
       "      <td>Down</td>\n",
       "    </tr>\n",
       "    <tr>\n",
       "      <th>1</th>\n",
       "      <td>1990</td>\n",
       "      <td>-0.270</td>\n",
       "      <td>0.816</td>\n",
       "      <td>1.572</td>\n",
       "      <td>-3.936</td>\n",
       "      <td>-0.229</td>\n",
       "      <td>0.148574</td>\n",
       "      <td>-2.576</td>\n",
       "      <td>Down</td>\n",
       "    </tr>\n",
       "    <tr>\n",
       "      <th>2</th>\n",
       "      <td>1990</td>\n",
       "      <td>-2.576</td>\n",
       "      <td>-0.270</td>\n",
       "      <td>0.816</td>\n",
       "      <td>1.572</td>\n",
       "      <td>-3.936</td>\n",
       "      <td>0.159837</td>\n",
       "      <td>3.514</td>\n",
       "      <td>Up</td>\n",
       "    </tr>\n",
       "    <tr>\n",
       "      <th>3</th>\n",
       "      <td>1990</td>\n",
       "      <td>3.514</td>\n",
       "      <td>-2.576</td>\n",
       "      <td>-0.270</td>\n",
       "      <td>0.816</td>\n",
       "      <td>1.572</td>\n",
       "      <td>0.161630</td>\n",
       "      <td>0.712</td>\n",
       "      <td>Up</td>\n",
       "    </tr>\n",
       "    <tr>\n",
       "      <th>4</th>\n",
       "      <td>1990</td>\n",
       "      <td>0.712</td>\n",
       "      <td>3.514</td>\n",
       "      <td>-2.576</td>\n",
       "      <td>-0.270</td>\n",
       "      <td>0.816</td>\n",
       "      <td>0.153728</td>\n",
       "      <td>1.178</td>\n",
       "      <td>Up</td>\n",
       "    </tr>\n",
       "    <tr>\n",
       "      <th>...</th>\n",
       "      <td>...</td>\n",
       "      <td>...</td>\n",
       "      <td>...</td>\n",
       "      <td>...</td>\n",
       "      <td>...</td>\n",
       "      <td>...</td>\n",
       "      <td>...</td>\n",
       "      <td>...</td>\n",
       "      <td>...</td>\n",
       "    </tr>\n",
       "    <tr>\n",
       "      <th>1084</th>\n",
       "      <td>2010</td>\n",
       "      <td>-0.861</td>\n",
       "      <td>0.043</td>\n",
       "      <td>-2.173</td>\n",
       "      <td>3.599</td>\n",
       "      <td>0.015</td>\n",
       "      <td>3.205160</td>\n",
       "      <td>2.969</td>\n",
       "      <td>Up</td>\n",
       "    </tr>\n",
       "    <tr>\n",
       "      <th>1085</th>\n",
       "      <td>2010</td>\n",
       "      <td>2.969</td>\n",
       "      <td>-0.861</td>\n",
       "      <td>0.043</td>\n",
       "      <td>-2.173</td>\n",
       "      <td>3.599</td>\n",
       "      <td>4.242568</td>\n",
       "      <td>1.281</td>\n",
       "      <td>Up</td>\n",
       "    </tr>\n",
       "    <tr>\n",
       "      <th>1086</th>\n",
       "      <td>2010</td>\n",
       "      <td>1.281</td>\n",
       "      <td>2.969</td>\n",
       "      <td>-0.861</td>\n",
       "      <td>0.043</td>\n",
       "      <td>-2.173</td>\n",
       "      <td>4.835082</td>\n",
       "      <td>0.283</td>\n",
       "      <td>Up</td>\n",
       "    </tr>\n",
       "    <tr>\n",
       "      <th>1087</th>\n",
       "      <td>2010</td>\n",
       "      <td>0.283</td>\n",
       "      <td>1.281</td>\n",
       "      <td>2.969</td>\n",
       "      <td>-0.861</td>\n",
       "      <td>0.043</td>\n",
       "      <td>4.454044</td>\n",
       "      <td>1.034</td>\n",
       "      <td>Up</td>\n",
       "    </tr>\n",
       "    <tr>\n",
       "      <th>1088</th>\n",
       "      <td>2010</td>\n",
       "      <td>1.034</td>\n",
       "      <td>0.283</td>\n",
       "      <td>1.281</td>\n",
       "      <td>2.969</td>\n",
       "      <td>-0.861</td>\n",
       "      <td>2.707105</td>\n",
       "      <td>0.069</td>\n",
       "      <td>Up</td>\n",
       "    </tr>\n",
       "  </tbody>\n",
       "</table>\n",
       "<p>1089 rows × 9 columns</p>\n",
       "</div>"
      ],
      "text/plain": [
       "      Year   Lag1   Lag2   Lag3   Lag4   Lag5    Volume  Today Direction\n",
       "0     1990  0.816  1.572 -3.936 -0.229 -3.484  0.154976 -0.270      Down\n",
       "1     1990 -0.270  0.816  1.572 -3.936 -0.229  0.148574 -2.576      Down\n",
       "2     1990 -2.576 -0.270  0.816  1.572 -3.936  0.159837  3.514        Up\n",
       "3     1990  3.514 -2.576 -0.270  0.816  1.572  0.161630  0.712        Up\n",
       "4     1990  0.712  3.514 -2.576 -0.270  0.816  0.153728  1.178        Up\n",
       "...    ...    ...    ...    ...    ...    ...       ...    ...       ...\n",
       "1084  2010 -0.861  0.043 -2.173  3.599  0.015  3.205160  2.969        Up\n",
       "1085  2010  2.969 -0.861  0.043 -2.173  3.599  4.242568  1.281        Up\n",
       "1086  2010  1.281  2.969 -0.861  0.043 -2.173  4.835082  0.283        Up\n",
       "1087  2010  0.283  1.281  2.969 -0.861  0.043  4.454044  1.034        Up\n",
       "1088  2010  1.034  0.283  1.281  2.969 -0.861  2.707105  0.069        Up\n",
       "\n",
       "[1089 rows x 9 columns]"
      ]
     },
     "execution_count": 2,
     "metadata": {},
     "output_type": "execute_result"
    }
   ],
   "source": [
    "#Importing data to Pandas DataFrame\n",
    "stock_data = pd.read_csv(\"E:/UCLA/Winter 2024/ECON 425/Weekly (1).csv\")\n",
    "stock_data"
   ]
  },
  {
   "cell_type": "code",
   "execution_count": 3,
   "id": "cbfa5348-5830-4d88-82c7-ef2a3996a9d6",
   "metadata": {},
   "outputs": [
    {
     "name": "stdout",
     "output_type": "stream",
     "text": [
      "Year           int64\n",
      "Lag1         float64\n",
      "Lag2         float64\n",
      "Lag3         float64\n",
      "Lag4         float64\n",
      "Lag5         float64\n",
      "Volume       float64\n",
      "Today        float64\n",
      "Direction     object\n",
      "dtype: object\n"
     ]
    }
   ],
   "source": [
    "#Identifying datatype of the target variable\n",
    "print(stock_data.dtypes)"
   ]
  },
  {
   "cell_type": "code",
   "execution_count": 4,
   "id": "b28caf16-7170-4a1f-81f5-90590a048b2c",
   "metadata": {},
   "outputs": [
    {
     "data": {
      "text/html": [
       "<div>\n",
       "<style scoped>\n",
       "    .dataframe tbody tr th:only-of-type {\n",
       "        vertical-align: middle;\n",
       "    }\n",
       "\n",
       "    .dataframe tbody tr th {\n",
       "        vertical-align: top;\n",
       "    }\n",
       "\n",
       "    .dataframe thead th {\n",
       "        text-align: right;\n",
       "    }\n",
       "</style>\n",
       "<table border=\"1\" class=\"dataframe\">\n",
       "  <thead>\n",
       "    <tr style=\"text-align: right;\">\n",
       "      <th></th>\n",
       "      <th>Year</th>\n",
       "      <th>Lag1</th>\n",
       "      <th>Lag2</th>\n",
       "      <th>Lag3</th>\n",
       "      <th>Lag4</th>\n",
       "      <th>Lag5</th>\n",
       "      <th>Volume</th>\n",
       "      <th>Today</th>\n",
       "      <th>Direction_Up</th>\n",
       "    </tr>\n",
       "  </thead>\n",
       "  <tbody>\n",
       "    <tr>\n",
       "      <th>0</th>\n",
       "      <td>1990</td>\n",
       "      <td>0.816</td>\n",
       "      <td>1.572</td>\n",
       "      <td>-3.936</td>\n",
       "      <td>-0.229</td>\n",
       "      <td>-3.484</td>\n",
       "      <td>0.154976</td>\n",
       "      <td>-0.270</td>\n",
       "      <td>False</td>\n",
       "    </tr>\n",
       "    <tr>\n",
       "      <th>1</th>\n",
       "      <td>1990</td>\n",
       "      <td>-0.270</td>\n",
       "      <td>0.816</td>\n",
       "      <td>1.572</td>\n",
       "      <td>-3.936</td>\n",
       "      <td>-0.229</td>\n",
       "      <td>0.148574</td>\n",
       "      <td>-2.576</td>\n",
       "      <td>False</td>\n",
       "    </tr>\n",
       "    <tr>\n",
       "      <th>2</th>\n",
       "      <td>1990</td>\n",
       "      <td>-2.576</td>\n",
       "      <td>-0.270</td>\n",
       "      <td>0.816</td>\n",
       "      <td>1.572</td>\n",
       "      <td>-3.936</td>\n",
       "      <td>0.159837</td>\n",
       "      <td>3.514</td>\n",
       "      <td>True</td>\n",
       "    </tr>\n",
       "    <tr>\n",
       "      <th>3</th>\n",
       "      <td>1990</td>\n",
       "      <td>3.514</td>\n",
       "      <td>-2.576</td>\n",
       "      <td>-0.270</td>\n",
       "      <td>0.816</td>\n",
       "      <td>1.572</td>\n",
       "      <td>0.161630</td>\n",
       "      <td>0.712</td>\n",
       "      <td>True</td>\n",
       "    </tr>\n",
       "    <tr>\n",
       "      <th>4</th>\n",
       "      <td>1990</td>\n",
       "      <td>0.712</td>\n",
       "      <td>3.514</td>\n",
       "      <td>-2.576</td>\n",
       "      <td>-0.270</td>\n",
       "      <td>0.816</td>\n",
       "      <td>0.153728</td>\n",
       "      <td>1.178</td>\n",
       "      <td>True</td>\n",
       "    </tr>\n",
       "    <tr>\n",
       "      <th>...</th>\n",
       "      <td>...</td>\n",
       "      <td>...</td>\n",
       "      <td>...</td>\n",
       "      <td>...</td>\n",
       "      <td>...</td>\n",
       "      <td>...</td>\n",
       "      <td>...</td>\n",
       "      <td>...</td>\n",
       "      <td>...</td>\n",
       "    </tr>\n",
       "    <tr>\n",
       "      <th>1084</th>\n",
       "      <td>2010</td>\n",
       "      <td>-0.861</td>\n",
       "      <td>0.043</td>\n",
       "      <td>-2.173</td>\n",
       "      <td>3.599</td>\n",
       "      <td>0.015</td>\n",
       "      <td>3.205160</td>\n",
       "      <td>2.969</td>\n",
       "      <td>True</td>\n",
       "    </tr>\n",
       "    <tr>\n",
       "      <th>1085</th>\n",
       "      <td>2010</td>\n",
       "      <td>2.969</td>\n",
       "      <td>-0.861</td>\n",
       "      <td>0.043</td>\n",
       "      <td>-2.173</td>\n",
       "      <td>3.599</td>\n",
       "      <td>4.242568</td>\n",
       "      <td>1.281</td>\n",
       "      <td>True</td>\n",
       "    </tr>\n",
       "    <tr>\n",
       "      <th>1086</th>\n",
       "      <td>2010</td>\n",
       "      <td>1.281</td>\n",
       "      <td>2.969</td>\n",
       "      <td>-0.861</td>\n",
       "      <td>0.043</td>\n",
       "      <td>-2.173</td>\n",
       "      <td>4.835082</td>\n",
       "      <td>0.283</td>\n",
       "      <td>True</td>\n",
       "    </tr>\n",
       "    <tr>\n",
       "      <th>1087</th>\n",
       "      <td>2010</td>\n",
       "      <td>0.283</td>\n",
       "      <td>1.281</td>\n",
       "      <td>2.969</td>\n",
       "      <td>-0.861</td>\n",
       "      <td>0.043</td>\n",
       "      <td>4.454044</td>\n",
       "      <td>1.034</td>\n",
       "      <td>True</td>\n",
       "    </tr>\n",
       "    <tr>\n",
       "      <th>1088</th>\n",
       "      <td>2010</td>\n",
       "      <td>1.034</td>\n",
       "      <td>0.283</td>\n",
       "      <td>1.281</td>\n",
       "      <td>2.969</td>\n",
       "      <td>-0.861</td>\n",
       "      <td>2.707105</td>\n",
       "      <td>0.069</td>\n",
       "      <td>True</td>\n",
       "    </tr>\n",
       "  </tbody>\n",
       "</table>\n",
       "<p>1089 rows × 9 columns</p>\n",
       "</div>"
      ],
      "text/plain": [
       "      Year   Lag1   Lag2   Lag3   Lag4   Lag5    Volume  Today  Direction_Up\n",
       "0     1990  0.816  1.572 -3.936 -0.229 -3.484  0.154976 -0.270         False\n",
       "1     1990 -0.270  0.816  1.572 -3.936 -0.229  0.148574 -2.576         False\n",
       "2     1990 -2.576 -0.270  0.816  1.572 -3.936  0.159837  3.514          True\n",
       "3     1990  3.514 -2.576 -0.270  0.816  1.572  0.161630  0.712          True\n",
       "4     1990  0.712  3.514 -2.576 -0.270  0.816  0.153728  1.178          True\n",
       "...    ...    ...    ...    ...    ...    ...       ...    ...           ...\n",
       "1084  2010 -0.861  0.043 -2.173  3.599  0.015  3.205160  2.969          True\n",
       "1085  2010  2.969 -0.861  0.043 -2.173  3.599  4.242568  1.281          True\n",
       "1086  2010  1.281  2.969 -0.861  0.043 -2.173  4.835082  0.283          True\n",
       "1087  2010  0.283  1.281  2.969 -0.861  0.043  4.454044  1.034          True\n",
       "1088  2010  1.034  0.283  1.281  2.969 -0.861  2.707105  0.069          True\n",
       "\n",
       "[1089 rows x 9 columns]"
      ]
     },
     "execution_count": 4,
     "metadata": {},
     "output_type": "execute_result"
    }
   ],
   "source": [
    "#Changing target variable to a binary variable as required for logistic regression\n",
    "stock_data = pd.get_dummies(stock_data, columns=[\"Direction\"], drop_first= True)\n",
    "stock_data"
   ]
  },
  {
   "cell_type": "code",
   "execution_count": 5,
   "id": "53500466-d8bd-429f-b9f1-48f54dddd13c",
   "metadata": {},
   "outputs": [],
   "source": [
    "#Defining the variables for the model\n",
    "direction = stock_data[\"Direction_Up\"]\n",
    "lag_vars = [\"Lag1\", \"Lag2\", \"Lag3\", \"Lag4\", \"Lag5\"]\n",
    "exog_data = stock_data[[\"Volume\"] + lag_vars]"
   ]
  },
  {
   "cell_type": "code",
   "execution_count": 6,
   "id": "5cda48d5-b2db-4523-9a5a-c35a69f34ecb",
   "metadata": {},
   "outputs": [
    {
     "name": "stdout",
     "output_type": "stream",
     "text": [
      "[1 1 1 ... 1 1 1]\n"
     ]
    }
   ],
   "source": [
    "#Defining and building the logistic regression model\n",
    "logit_model = LogisticRegression()\n",
    "logit_results = logit_model.fit(exog_data, direction)\n",
    "pred_directions = (logit_results.predict(exog_data)).astype(int)\n",
    "print(pred_directions)"
   ]
  },
  {
   "cell_type": "code",
   "execution_count": 7,
   "id": "37697839-6710-4758-85ad-068ce01e12dd",
   "metadata": {},
   "outputs": [
    {
     "name": "stdout",
     "output_type": "stream",
     "text": [
      "              precision    recall  f1-score   support\n",
      "\n",
      "       False      0.529     0.112     0.184       484\n",
      "        True      0.564     0.921     0.700       605\n",
      "\n",
      "    accuracy                          0.561      1089\n",
      "   macro avg      0.547     0.516     0.442      1089\n",
      "weighted avg      0.549     0.561     0.471      1089\n",
      "\n"
     ]
    },
    {
     "data": {
      "image/png": "[encoded data removed]",
      "text/plain": [
       "<Figure size 640x480 with 2 Axes>"
      ]
     },
     "metadata": {},
     "output_type": "display_data"
    }
   ],
   "source": [
    "#Constructing a confusion matrix and a classification report to generate metrics on the model\n",
    "cm = confusion_matrix(direction, pred_directions)\n",
    "ConfusionMatrixDisplay(cm).plot()\n",
    "report = classification_report(direction, pred_directions, digits=3)\n",
    "print(report)"
   ]
  },
  {
   "cell_type": "code",
   "execution_count": 8,
   "id": "95609493-46a1-4783-9ab8-21f0222e50fc",
   "metadata": {},
   "outputs": [],
   "source": [
    "#Extracting the values from the confusion matrix\n",
    "true_positive = cm[1,1]\n",
    "true_negative = cm[0,0]\n",
    "false_positive = cm[0,1]\n",
    "false_negative = cm[1,0]"
   ]
  },
  {
   "cell_type": "code",
   "execution_count": 9,
   "id": "67188cda-8896-4c2e-8369-6b05a97972a2",
   "metadata": {},
   "outputs": [],
   "source": [
    "#Estimating the metrics for the model\n",
    "accuracy = (true_positive + true_negative)/(true_negative+true_positive+false_negative+false_positive)\n",
    "precision = true_positive/(true_positive+false_positive)\n",
    "recall = true_positive/(true_positive+false_negative)\n",
    "f1_score = (2*recall*precision)/(recall+precision)"
   ]
  },
  {
   "cell_type": "code",
   "execution_count": 10,
   "id": "40db8a14-0aef-4c6d-9873-34c346b84a1a",
   "metadata": {},
   "outputs": [
    {
     "name": "stdout",
     "output_type": "stream",
     "text": [
      "   Indicator    Scores\n",
      "0   Accuracy  0.561065\n",
      "1  Precision  0.564336\n",
      "2     Recall  0.920661\n",
      "3   F1-Score  0.699749\n"
     ]
    }
   ],
   "source": [
    "#Constructing a dataframe to contain the metrics for the model\n",
    "Indicators = pd.DataFrame({\n",
    "    \"Indicator\" : [\"Accuracy\", \"Precision\", \"Recall\", \"F1-Score\"],\n",
    "    \"Scores\" : [accuracy, precision, recall, f1_score]\n",
    "    })\n",
    "print(Indicators)"
   ]
  },
  {
   "cell_type": "code",
   "execution_count": 11,
   "id": "507c6050-6f2a-4ad0-8726-6252e403f129",
   "metadata": {},
   "outputs": [
    {
     "ename": "ValueError",
     "evalue": "The truth value of a Series is ambiguous. Use a.empty, a.bool(), a.item(), a.any() or a.all().",
     "output_type": "error",
     "traceback": [
      "\u001b[1;31m---------------------------------------------------------------------------\u001b[0m",
      "\u001b[1;31mValueError\u001b[0m                                Traceback (most recent call last)",
      "\u001b[1;32m~\\AppData\\Local\\Temp\\ipykernel_8376\\441317508.py\u001b[0m in \u001b[0;36m?\u001b[1;34m()\u001b[0m\n\u001b[0;32m      8\u001b[0m     \u001b[0mTP\u001b[0m \u001b[1;33m=\u001b[0m \u001b[0mnp\u001b[0m\u001b[1;33m.\u001b[0m\u001b[0msum\u001b[0m\u001b[1;33m(\u001b[0m\u001b[0mdf\u001b[0m\u001b[1;33m[\u001b[0m\u001b[1;33m(\u001b[0m\u001b[0mdf\u001b[0m\u001b[1;33m[\u001b[0m\u001b[1;34m\"pred\"\u001b[0m\u001b[1;33m]\u001b[0m \u001b[1;33m==\u001b[0m \u001b[1;36m1\u001b[0m\u001b[1;33m)\u001b[0m \u001b[1;33m&\u001b[0m \u001b[1;33m(\u001b[0m\u001b[0mdf\u001b[0m\u001b[1;33m[\u001b[0m\u001b[1;34m\"Direction_Up\"\u001b[0m\u001b[1;33m]\u001b[0m \u001b[1;33m==\u001b[0m \u001b[1;36m1\u001b[0m\u001b[1;33m)\u001b[0m\u001b[1;33m]\u001b[0m\u001b[1;33m)\u001b[0m\u001b[1;33m\u001b[0m\u001b[1;33m\u001b[0m\u001b[0m\n\u001b[0;32m      9\u001b[0m     \u001b[0mTN\u001b[0m \u001b[1;33m=\u001b[0m \u001b[0mnp\u001b[0m\u001b[1;33m.\u001b[0m\u001b[0msum\u001b[0m\u001b[1;33m(\u001b[0m\u001b[0mdf\u001b[0m\u001b[1;33m[\u001b[0m\u001b[1;33m(\u001b[0m\u001b[0mdf\u001b[0m\u001b[1;33m[\u001b[0m\u001b[1;34m\"pred\"\u001b[0m\u001b[1;33m]\u001b[0m \u001b[1;33m==\u001b[0m \u001b[1;36m0\u001b[0m\u001b[1;33m)\u001b[0m \u001b[1;33m&\u001b[0m \u001b[1;33m(\u001b[0m\u001b[0mdf\u001b[0m\u001b[1;33m[\u001b[0m\u001b[1;34m\"Direction_Up\"\u001b[0m\u001b[1;33m]\u001b[0m \u001b[1;33m==\u001b[0m \u001b[1;36m0\u001b[0m\u001b[1;33m)\u001b[0m\u001b[1;33m]\u001b[0m\u001b[1;33m)\u001b[0m\u001b[1;33m\u001b[0m\u001b[1;33m\u001b[0m\u001b[0m\n\u001b[0;32m     10\u001b[0m     \u001b[0mFP\u001b[0m \u001b[1;33m=\u001b[0m \u001b[0mnp\u001b[0m\u001b[1;33m.\u001b[0m\u001b[0msum\u001b[0m\u001b[1;33m(\u001b[0m\u001b[0mdf\u001b[0m\u001b[1;33m[\u001b[0m\u001b[1;33m(\u001b[0m\u001b[0mdf\u001b[0m\u001b[1;33m[\u001b[0m\u001b[1;34m\"pred\"\u001b[0m\u001b[1;33m]\u001b[0m \u001b[1;33m==\u001b[0m \u001b[1;36m1\u001b[0m\u001b[1;33m)\u001b[0m \u001b[1;33m&\u001b[0m \u001b[1;33m(\u001b[0m\u001b[0mdf\u001b[0m\u001b[1;33m[\u001b[0m\u001b[1;34m\"Direction_Up\"\u001b[0m\u001b[1;33m]\u001b[0m \u001b[1;33m==\u001b[0m \u001b[1;36m0\u001b[0m\u001b[1;33m)\u001b[0m\u001b[1;33m]\u001b[0m\u001b[1;33m)\u001b[0m\u001b[1;33m\u001b[0m\u001b[1;33m\u001b[0m\u001b[0m\n\u001b[0;32m     11\u001b[0m     \u001b[0mFN\u001b[0m \u001b[1;33m=\u001b[0m \u001b[0mnp\u001b[0m\u001b[1;33m.\u001b[0m\u001b[0msum\u001b[0m\u001b[1;33m(\u001b[0m\u001b[0mdf\u001b[0m\u001b[1;33m[\u001b[0m\u001b[1;33m(\u001b[0m\u001b[0mdf\u001b[0m\u001b[1;33m[\u001b[0m\u001b[1;34m\"pred\"\u001b[0m\u001b[1;33m]\u001b[0m \u001b[1;33m==\u001b[0m \u001b[1;36m0\u001b[0m\u001b[1;33m)\u001b[0m \u001b[1;33m&\u001b[0m \u001b[1;33m(\u001b[0m\u001b[0mdf\u001b[0m\u001b[1;33m[\u001b[0m\u001b[1;34m\"Direction_Up\"\u001b[0m\u001b[1;33m]\u001b[0m \u001b[1;33m==\u001b[0m \u001b[1;36m1\u001b[0m\u001b[1;33m)\u001b[0m\u001b[1;33m]\u001b[0m\u001b[1;33m)\u001b[0m\u001b[1;33m\u001b[0m\u001b[1;33m\u001b[0m\u001b[0m\n\u001b[1;32m---> 12\u001b[1;33m     \u001b[0mprecision\u001b[0m \u001b[1;33m=\u001b[0m \u001b[0mTP\u001b[0m \u001b[1;33m/\u001b[0m \u001b[1;33m(\u001b[0m\u001b[0mTP\u001b[0m \u001b[1;33m+\u001b[0m \u001b[0mFP\u001b[0m\u001b[1;33m)\u001b[0m \u001b[1;32mif\u001b[0m \u001b[1;33m(\u001b[0m\u001b[0mTP\u001b[0m \u001b[1;33m+\u001b[0m \u001b[0mFP\u001b[0m\u001b[1;33m)\u001b[0m \u001b[1;33m!=\u001b[0m \u001b[1;36m0\u001b[0m \u001b[1;32melse\u001b[0m \u001b[1;36m0\u001b[0m\u001b[1;33m\u001b[0m\u001b[1;33m\u001b[0m\u001b[0m\n\u001b[0m\u001b[0;32m     13\u001b[0m     \u001b[0mrecall\u001b[0m \u001b[1;33m=\u001b[0m \u001b[0mTP\u001b[0m \u001b[1;33m/\u001b[0m \u001b[1;33m(\u001b[0m\u001b[0mTP\u001b[0m \u001b[1;33m+\u001b[0m \u001b[0mFN\u001b[0m\u001b[1;33m)\u001b[0m \u001b[1;32mif\u001b[0m \u001b[1;33m(\u001b[0m\u001b[0mTP\u001b[0m \u001b[1;33m+\u001b[0m \u001b[0mFN\u001b[0m\u001b[1;33m)\u001b[0m \u001b[1;33m!=\u001b[0m \u001b[1;36m0\u001b[0m \u001b[1;32melse\u001b[0m \u001b[1;36m0\u001b[0m\u001b[1;33m\u001b[0m\u001b[1;33m\u001b[0m\u001b[0m\n\u001b[0;32m     14\u001b[0m     \u001b[0mprecision_list\u001b[0m\u001b[1;33m.\u001b[0m\u001b[0mappend\u001b[0m\u001b[1;33m(\u001b[0m\u001b[0mprecision\u001b[0m\u001b[1;33m)\u001b[0m\u001b[1;33m\u001b[0m\u001b[1;33m\u001b[0m\u001b[0m\n\u001b[0;32m     15\u001b[0m     \u001b[0mrecall_list\u001b[0m\u001b[1;33m.\u001b[0m\u001b[0mappend\u001b[0m\u001b[1;33m(\u001b[0m\u001b[0mrecall\u001b[0m\u001b[1;33m)\u001b[0m\u001b[1;33m\u001b[0m\u001b[1;33m\u001b[0m\u001b[0m\n",
      "\u001b[1;32m~\\anaconda3\\Lib\\site-packages\\pandas\\core\\generic.py\u001b[0m in \u001b[0;36m?\u001b[1;34m(self)\u001b[0m\n\u001b[0;32m   1464\u001b[0m     \u001b[1;33m@\u001b[0m\u001b[0mfinal\u001b[0m\u001b[1;33m\u001b[0m\u001b[1;33m\u001b[0m\u001b[0m\n\u001b[0;32m   1465\u001b[0m     \u001b[1;32mdef\u001b[0m \u001b[0m__nonzero__\u001b[0m\u001b[1;33m(\u001b[0m\u001b[0mself\u001b[0m\u001b[1;33m)\u001b[0m \u001b[1;33m->\u001b[0m \u001b[0mNoReturn\u001b[0m\u001b[1;33m:\u001b[0m\u001b[1;33m\u001b[0m\u001b[1;33m\u001b[0m\u001b[0m\n\u001b[1;32m-> 1466\u001b[1;33m         raise ValueError(\n\u001b[0m\u001b[0;32m   1467\u001b[0m             \u001b[1;34mf\"The truth value of a {type(self).__name__} is ambiguous. \"\u001b[0m\u001b[1;33m\u001b[0m\u001b[1;33m\u001b[0m\u001b[0m\n\u001b[0;32m   1468\u001b[0m             \u001b[1;34m\"Use a.empty, a.bool(), a.item(), a.any() or a.all().\"\u001b[0m\u001b[1;33m\u001b[0m\u001b[1;33m\u001b[0m\u001b[0m\n\u001b[0;32m   1469\u001b[0m         )\n",
      "\u001b[1;31mValueError\u001b[0m: The truth value of a Series is ambiguous. Use a.empty, a.bool(), a.item(), a.any() or a.all()."
     ]
    }
   ],
   "source": [
    "threshold_range = np.linspace(0,1,num=100)\n",
    "precision_list = []\n",
    "recall_list = []\n",
    "for threshold in threshold_range:\n",
    "    df = stock_data.copy()\n",
    "    df[\"Direction_Up\"] = df[\"Direction_Up\"].astype(int)\n",
    "    df[\"pred\"] = np.where(logit_results.decision_function(exog_data) > threshold, 1, 0)\n",
    "    TP = np.sum(df[(df[\"pred\"] == 1) & (df[\"Direction_Up\"] == 1)])\n",
    "    TN = np.sum(df[(df[\"pred\"] == 0) & (df[\"Direction_Up\"] == 0)])\n",
    "    FP = np.sum(df[(df[\"pred\"] == 1) & (df[\"Direction_Up\"] == 0)])\n",
    "    FN = np.sum(df[(df[\"pred\"] == 0) & (df[\"Direction_Up\"] == 1)])\n",
    "    precision = TP / (TP + FP) if (TP + FP) != 0 else 0\n",
    "    recall = TP / (TP + FN) if (TP + FN) != 0 else 0\n",
    "    precision_list.append(precision)\n",
    "    recall_list.append(recall)\n",
    "    plot_data = pd.DataFrame({\n",
    "    \"Threshold\": threshold_range,\n",
    "    \"Precision\": precision_list,\n",
    "    \"Recall\": recall_list\n",
    "    })"
   ]
  },
  {
   "cell_type": "code",
   "execution_count": 12,
   "id": "53fab539-7796-42f5-a557-b881d948c3a4",
   "metadata": {},
   "outputs": [
    {
     "ename": "NameError",
     "evalue": "name 'Indicators1' is not defined",
     "output_type": "error",
     "traceback": [
      "\u001b[1;31m---------------------------------------------------------------------------\u001b[0m",
      "\u001b[1;31mNameError\u001b[0m                                 Traceback (most recent call last)",
      "Cell \u001b[1;32mIn[12], line 4\u001b[0m\n\u001b[0;32m      2\u001b[0m plt\u001b[38;5;241m.\u001b[39mfigure(figsize\u001b[38;5;241m=\u001b[39m(\u001b[38;5;241m16\u001b[39m,\u001b[38;5;241m10\u001b[39m))\n\u001b[0;32m      3\u001b[0m plt\u001b[38;5;241m.\u001b[39maxhline(y\u001b[38;5;241m=\u001b[39m\u001b[38;5;241m0.5\u001b[39m, xmax \u001b[38;5;241m=\u001b[39m \u001b[38;5;241m1\u001b[39m)\n\u001b[1;32m----> 4\u001b[0m plt\u001b[38;5;241m.\u001b[39mplot(\u001b[38;5;124m\"\u001b[39m\u001b[38;5;124mIndicator\u001b[39m\u001b[38;5;124m\"\u001b[39m, \u001b[38;5;124m\"\u001b[39m\u001b[38;5;124mScores\u001b[39m\u001b[38;5;124m\"\u001b[39m, data \u001b[38;5;241m=\u001b[39m Indicators1)\n\u001b[0;32m      5\u001b[0m plt\u001b[38;5;241m.\u001b[39mxlabel(\u001b[38;5;124m\"\u001b[39m\u001b[38;5;124mIndicators\u001b[39m\u001b[38;5;124m\"\u001b[39m)\n\u001b[0;32m      6\u001b[0m plt\u001b[38;5;241m.\u001b[39mylabel(\u001b[38;5;124m\"\u001b[39m\u001b[38;5;124mScores\u001b[39m\u001b[38;5;124m\"\u001b[39m)\n",
      "\u001b[1;31mNameError\u001b[0m: name 'Indicators1' is not defined"
     ]
    },
    {
     "data": {
      "image/png": "[encoded data removed]",
      "text/plain": [
       "<Figure size 1600x1000 with 1 Axes>"
      ]
     },
     "metadata": {},
     "output_type": "display_data"
    }
   ],
   "source": [
    "#Plotting precision and recall compared to the 0.5 threshold set for predictions\n",
    "plt.figure(figsize=(16,10))\n",
    "plt.axhline(y=0.5, xmax = 1)\n",
    "plt.plot(\"Indicator\", \"Scores\", data = Indicators1)\n",
    "plt.xlabel(\"Indicators\")\n",
    "plt.ylabel(\"Scores\")\n",
    "plt.show()"
   ]
  },
  {
   "cell_type": "markdown",
   "id": "8c67ca72-7e40-4006-ae18-db24f7cbeb43",
   "metadata": {},
   "source": [
    "## Building a simple random guessing model that guesses that all observations belong to the \"majority\" class to compare the performance of our model with it."
   ]
  },
  {
   "cell_type": "code",
   "execution_count": null,
   "id": "25089c8d-c016-42da-a72b-3e5f531e04be",
   "metadata": {},
   "outputs": [],
   "source": [
    "print(stock_data['Direction_Up'].value_counts())"
   ]
  },
  {
   "cell_type": "markdown",
   "id": "1204d330-bba1-4038-b56e-8582a650f9d0",
   "metadata": {},
   "source": [
    "### Here, the majority class is positive, and thus the random classifier will be built such that it predicts \"Positive\" or 1 for all observations"
   ]
  },
  {
   "cell_type": "code",
   "execution_count": null,
   "id": "8c9c4947-2996-4247-b57a-8c6b2d1dc28c",
   "metadata": {},
   "outputs": [],
   "source": [
    "random_predictions = np.ones_like(direction)"
   ]
  },
  {
   "cell_type": "code",
   "execution_count": null,
   "id": "465b4a07-0635-44fa-a35c-13c0ee2281f4",
   "metadata": {},
   "outputs": [],
   "source": [
    "cm_random = confusion_matrix(direction, random_predictions)\n",
    "ConfusionMatrixDisplay(cm_random).plot()\n",
    "report_random = classification_report(direction, random_predictions, digits=3)\n",
    "print(report_random)"
   ]
  },
  {
   "cell_type": "markdown",
   "id": "b8cf6822-c3c2-4501-b954-3878ab15e561",
   "metadata": {},
   "source": [
    "### In comparison to the logistic regression model, the model with random guessing fares worse on the metric of accuracy. It also fares poorly on precision, recall, and f1-score compared to the logistic regression model. \n",
    "\n",
    "The model which classifies all observations to be positive has an accuracy of 0.556, but this is down to the imbalance in the dataset, with significantly more positive observations than negative ones. \n",
    "\n",
    "The logistic regression classifier on the other hand, does not suffer from such bias, and has an accuracy of 0.561, it overcomes this deficiency with much superior precision and recall. \n",
    "\n",
    "The random model has a precision, recall, and f1-score of 0. In comparison, the logistic classifier has a precision of 0.564, recall of 0.920, and an f1-score of 0.699. "
   ]
  },
  {
   "cell_type": "code",
   "execution_count": 13,
   "id": "f1314ce2-10c4-4ab4-953a-d425ae995a72",
   "metadata": {},
   "outputs": [],
   "source": [
    "#Splitting the data into test and train sets with data upto 2008 being used to train the model\n",
    "stock_data1 = stock_data.copy()\n",
    "stock_data1 = stock_data1.set_index(\"Year\")\n",
    "stock_train = stock_data1.loc[:2008]\n",
    "stock_test = stock_data1.loc[2009:]"
   ]
  },
  {
   "cell_type": "code",
   "execution_count": 14,
   "id": "bc0573e0-a87f-4492-9ec8-27c4fd5a8762",
   "metadata": {},
   "outputs": [],
   "source": [
    "#Defining the variables for the new model\n",
    "direction1 = stock_train[\"Direction_Up\"]\n",
    "direction2 = stock_test[\"Direction_Up\"]\n",
    "x = np.array(stock_train[\"Lag2\"])\n",
    "x = x.reshape(-1,1)\n",
    "x1 = np.array(stock_test[\"Lag2\"])\n",
    "x1 = x1.reshape(-1,1)"
   ]
  },
  {
   "cell_type": "code",
   "execution_count": 15,
   "id": "1180202b-09b6-47aa-b819-a3e776a7a265",
   "metadata": {},
   "outputs": [],
   "source": [
    "#Defining and building the logistic regression model\n",
    "logit_model3 = LogisticRegression()\n",
    "logit_results3 = logit_model3.fit(x, direction1)\n",
    "pred_directions3 = (logit_results3.predict(x1)).astype(int)"
   ]
  },
  {
   "cell_type": "code",
   "execution_count": 16,
   "id": "dfb62a00-ceb7-4e3e-92fb-3430c6b2845f",
   "metadata": {},
   "outputs": [
    {
     "name": "stdout",
     "output_type": "stream",
     "text": [
      "              precision    recall  f1-score   support\n",
      "\n",
      "       False      0.643     0.209     0.316        43\n",
      "        True      0.622     0.918     0.742        61\n",
      "\n",
      "    accuracy                          0.625       104\n",
      "   macro avg      0.633     0.564     0.529       104\n",
      "weighted avg      0.631     0.625     0.566       104\n",
      "\n"
     ]
    },
    {
     "data": {
      "image/png": "[encoded data removed]",
      "text/plain": [
       "<Figure size 640x480 with 2 Axes>"
      ]
     },
     "metadata": {},
     "output_type": "display_data"
    }
   ],
   "source": [
    "#Constructing a confusion matrix and a classification report to generate metrics on the model\n",
    "cm3 = confusion_matrix(direction2, pred_directions3)\n",
    "ConfusionMatrixDisplay(cm3).plot()\n",
    "report3 = classification_report(direction2, pred_directions3, digits=3)\n",
    "print(report3)"
   ]
  },
  {
   "cell_type": "code",
   "execution_count": 17,
   "id": "ba555f51-1cf5-4c94-bd41-4836c1047ef1",
   "metadata": {},
   "outputs": [],
   "source": [
    "#Extracting the values from the confusion matrix\n",
    "true_positive3 = cm3[1,1]\n",
    "true_negative3 = cm3[0,0]\n",
    "false_positive3 = cm3[0,1]\n",
    "false_negative3 = cm3[1,0]"
   ]
  },
  {
   "cell_type": "code",
   "execution_count": 18,
   "id": "bf7480b2-07d9-4e41-8511-727189644002",
   "metadata": {},
   "outputs": [],
   "source": [
    "#Estimating the metrics for the model\n",
    "accuracy3 = (true_positive3 + true_negative3)/(true_negative3+true_positive3+false_negative3+false_positive3)\n",
    "precision3 = true_positive3/(true_positive3+false_positive3)\n",
    "recall3 = true_positive3/(true_positive3+false_negative3)\n",
    "f1_score3 = (2*recall3*precision3)/(recall3+precision3)"
   ]
  },
  {
   "cell_type": "code",
   "execution_count": 19,
   "id": "6d177d74-0f17-4319-89e8-98182251b649",
   "metadata": {},
   "outputs": [
    {
     "name": "stdout",
     "output_type": "stream",
     "text": [
      "   Indicator    Scores\n",
      "0   Accuracy  0.625000\n",
      "1  Precision  0.622222\n",
      "2     Recall  0.918033\n",
      "3   F1-Score  0.741722\n"
     ]
    }
   ],
   "source": [
    "#Constructing a dataframe to contain the metrics for the model\n",
    "Indicators3 = pd.DataFrame({\n",
    "    \"Indicator\" : [\"Accuracy\", \"Precision\", \"Recall\", \"F1-Score\"],\n",
    "    \"Scores\" : [accuracy3, precision3, recall3, f1_score3]\n",
    "    })\n",
    "print(Indicators3)"
   ]
  },
  {
   "cell_type": "markdown",
   "id": "7909d08d-2d46-42ee-93d3-657aae3fc258",
   "metadata": {},
   "source": [
    "## On the basis of both these model's metrics, I would clearly prefer the second model. It scores far better on all the metrics we calculated, with notably superior accuracy and F1-score. "
   ]
  }
 ],
 "metadata": {
  "kernelspec": {
   "display_name": "Python 3 (ipykernel)",
   "language": "python",
   "name": "python3"
  },
  "language_info": {
   "codemirror_mode": {
    "name": "ipython",
    "version": 3
   },
   "file_extension": ".py",
   "mimetype": "text/x-python",
   "name": "python",
   "nbconvert_exporter": "python",
   "pygments_lexer": "ipython3",
   "version": "3.11.5"
  }
 },
 "nbformat": 4,
 "nbformat_minor": 5
}
